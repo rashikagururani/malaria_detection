{
 "cells": [
  {
   "cell_type": "code",
   "execution_count": 1,
   "metadata": {
    "scrolled": true
   },
   "outputs": [],
   "source": [
    "#!pip install numpy"
   ]
  },
  {
   "cell_type": "code",
   "execution_count": 2,
   "metadata": {},
   "outputs": [],
   "source": [
    "# import the libraries as shown below\n",
    "\n",
    "from tensorflow.keras.layers import Input, Lambda, Dense, Flatten,Conv2D\n",
    "from tensorflow.keras.models import Model\n",
    "from tensorflow.keras.applications.vgg19 import VGG19\n",
    "from tensorflow.keras.applications.resnet50 import preprocess_input\n",
    "from tensorflow.keras.preprocessing import image\n",
    "from tensorflow.keras.preprocessing.image import ImageDataGenerator,load_img\n",
    "from tensorflow.keras.models import Sequential\n",
    "import numpy as np\n",
    "from glob import glob\n",
    "import matplotlib.pyplot as plt"
   ]
  },
  {
   "cell_type": "code",
   "execution_count": 3,
   "metadata": {},
   "outputs": [
    {
     "name": "stdout",
     "output_type": "stream",
     "text": [
      "2.6.2\n"
     ]
    }
   ],
   "source": [
    "import tensorflow\n",
    "print(tensorflow.__version__)"
   ]
  },
  {
   "cell_type": "code",
   "execution_count": 4,
   "metadata": {},
   "outputs": [],
   "source": [
    "# re-size all the images \n",
    "IMAGE_SIZE = [224, 224]\n",
    "\n",
    "train_path = 'cell_images/Train'\n",
    "valid_path = 'cell_images/Test'"
   ]
  },
  {
   "cell_type": "code",
   "execution_count": 5,
   "metadata": {},
   "outputs": [],
   "source": [
    "# Import the Vgg 16 library as shown below and add preprocessing layer to the front of VGG\n",
    "# Here we will be using imagenet weights\n",
    "\n",
    "mobilnet = VGG19(input_shape=IMAGE_SIZE + [3], weights='imagenet', include_top=False)"
   ]
  },
  {
   "cell_type": "code",
   "execution_count": 6,
   "metadata": {},
   "outputs": [
    {
     "name": "stdout",
     "output_type": "stream",
     "text": [
      "Model: \"vgg19\"\n",
      "_________________________________________________________________\n",
      "Layer (type)                 Output Shape              Param #   \n",
      "=================================================================\n",
      "input_1 (InputLayer)         [(None, 224, 224, 3)]     0         \n",
      "_________________________________________________________________\n",
      "block1_conv1 (Conv2D)        (None, 224, 224, 64)      1792      \n",
      "_________________________________________________________________\n",
      "block1_conv2 (Conv2D)        (None, 224, 224, 64)      36928     \n",
      "_________________________________________________________________\n",
      "block1_pool (MaxPooling2D)   (None, 112, 112, 64)      0         \n",
      "_________________________________________________________________\n",
      "block2_conv1 (Conv2D)        (None, 112, 112, 128)     73856     \n",
      "_________________________________________________________________\n",
      "block2_conv2 (Conv2D)        (None, 112, 112, 128)     147584    \n",
      "_________________________________________________________________\n",
      "block2_pool (MaxPooling2D)   (None, 56, 56, 128)       0         \n",
      "_________________________________________________________________\n",
      "block3_conv1 (Conv2D)        (None, 56, 56, 256)       295168    \n",
      "_________________________________________________________________\n",
      "block3_conv2 (Conv2D)        (None, 56, 56, 256)       590080    \n",
      "_________________________________________________________________\n",
      "block3_conv3 (Conv2D)        (None, 56, 56, 256)       590080    \n",
      "_________________________________________________________________\n",
      "block3_conv4 (Conv2D)        (None, 56, 56, 256)       590080    \n",
      "_________________________________________________________________\n",
      "block3_pool (MaxPooling2D)   (None, 28, 28, 256)       0         \n",
      "_________________________________________________________________\n",
      "block4_conv1 (Conv2D)        (None, 28, 28, 512)       1180160   \n",
      "_________________________________________________________________\n",
      "block4_conv2 (Conv2D)        (None, 28, 28, 512)       2359808   \n",
      "_________________________________________________________________\n",
      "block4_conv3 (Conv2D)        (None, 28, 28, 512)       2359808   \n",
      "_________________________________________________________________\n",
      "block4_conv4 (Conv2D)        (None, 28, 28, 512)       2359808   \n",
      "_________________________________________________________________\n",
      "block4_pool (MaxPooling2D)   (None, 14, 14, 512)       0         \n",
      "_________________________________________________________________\n",
      "block5_conv1 (Conv2D)        (None, 14, 14, 512)       2359808   \n",
      "_________________________________________________________________\n",
      "block5_conv2 (Conv2D)        (None, 14, 14, 512)       2359808   \n",
      "_________________________________________________________________\n",
      "block5_conv3 (Conv2D)        (None, 14, 14, 512)       2359808   \n",
      "_________________________________________________________________\n",
      "block5_conv4 (Conv2D)        (None, 14, 14, 512)       2359808   \n",
      "_________________________________________________________________\n",
      "block5_pool (MaxPooling2D)   (None, 7, 7, 512)         0         \n",
      "=================================================================\n",
      "Total params: 20,024,384\n",
      "Trainable params: 20,024,384\n",
      "Non-trainable params: 0\n",
      "_________________________________________________________________\n"
     ]
    }
   ],
   "source": [
    "mobilnet.summary()"
   ]
  },
  {
   "cell_type": "code",
   "execution_count": 7,
   "metadata": {},
   "outputs": [],
   "source": [
    "# don't train existing weights\n",
    "for layer in mobilnet.layers:\n",
    "    layer.trainable = False"
   ]
  },
  {
   "cell_type": "code",
   "execution_count": 8,
   "metadata": {},
   "outputs": [],
   "source": [
    "  # useful for getting number of output classes\n",
    "folders = glob('cell_images/Train/*')"
   ]
  },
  {
   "cell_type": "code",
   "execution_count": 9,
   "metadata": {},
   "outputs": [
    {
     "data": {
      "text/plain": [
       "['cell_images/Train/Parasitized', 'cell_images/Train/Uninfected']"
      ]
     },
     "execution_count": 9,
     "metadata": {},
     "output_type": "execute_result"
    }
   ],
   "source": [
    "folders"
   ]
  },
  {
   "cell_type": "code",
   "execution_count": 10,
   "metadata": {},
   "outputs": [],
   "source": [
    "# our layers - you can add more if you want\n",
    "x = Flatten()(mobilnet.output)"
   ]
  },
  {
   "cell_type": "code",
   "execution_count": 11,
   "metadata": {},
   "outputs": [],
   "source": [
    "prediction = Dense(len(folders), activation='softmax')(x)\n",
    "\n",
    "# create a model object\n",
    "model = Model(inputs=mobilnet.input, outputs=prediction)"
   ]
  },
  {
   "cell_type": "code",
   "execution_count": 12,
   "metadata": {},
   "outputs": [
    {
     "name": "stdout",
     "output_type": "stream",
     "text": [
      "Model: \"model\"\n",
      "_________________________________________________________________\n",
      "Layer (type)                 Output Shape              Param #   \n",
      "=================================================================\n",
      "input_1 (InputLayer)         [(None, 224, 224, 3)]     0         \n",
      "_________________________________________________________________\n",
      "block1_conv1 (Conv2D)        (None, 224, 224, 64)      1792      \n",
      "_________________________________________________________________\n",
      "block1_conv2 (Conv2D)        (None, 224, 224, 64)      36928     \n",
      "_________________________________________________________________\n",
      "block1_pool (MaxPooling2D)   (None, 112, 112, 64)      0         \n",
      "_________________________________________________________________\n",
      "block2_conv1 (Conv2D)        (None, 112, 112, 128)     73856     \n",
      "_________________________________________________________________\n",
      "block2_conv2 (Conv2D)        (None, 112, 112, 128)     147584    \n",
      "_________________________________________________________________\n",
      "block2_pool (MaxPooling2D)   (None, 56, 56, 128)       0         \n",
      "_________________________________________________________________\n",
      "block3_conv1 (Conv2D)        (None, 56, 56, 256)       295168    \n",
      "_________________________________________________________________\n",
      "block3_conv2 (Conv2D)        (None, 56, 56, 256)       590080    \n",
      "_________________________________________________________________\n",
      "block3_conv3 (Conv2D)        (None, 56, 56, 256)       590080    \n",
      "_________________________________________________________________\n",
      "block3_conv4 (Conv2D)        (None, 56, 56, 256)       590080    \n",
      "_________________________________________________________________\n",
      "block3_pool (MaxPooling2D)   (None, 28, 28, 256)       0         \n",
      "_________________________________________________________________\n",
      "block4_conv1 (Conv2D)        (None, 28, 28, 512)       1180160   \n",
      "_________________________________________________________________\n",
      "block4_conv2 (Conv2D)        (None, 28, 28, 512)       2359808   \n",
      "_________________________________________________________________\n",
      "block4_conv3 (Conv2D)        (None, 28, 28, 512)       2359808   \n",
      "_________________________________________________________________\n",
      "block4_conv4 (Conv2D)        (None, 28, 28, 512)       2359808   \n",
      "_________________________________________________________________\n",
      "block4_pool (MaxPooling2D)   (None, 14, 14, 512)       0         \n",
      "_________________________________________________________________\n",
      "block5_conv1 (Conv2D)        (None, 14, 14, 512)       2359808   \n",
      "_________________________________________________________________\n",
      "block5_conv2 (Conv2D)        (None, 14, 14, 512)       2359808   \n",
      "_________________________________________________________________\n",
      "block5_conv3 (Conv2D)        (None, 14, 14, 512)       2359808   \n",
      "_________________________________________________________________\n",
      "block5_conv4 (Conv2D)        (None, 14, 14, 512)       2359808   \n",
      "_________________________________________________________________\n",
      "block5_pool (MaxPooling2D)   (None, 7, 7, 512)         0         \n",
      "_________________________________________________________________\n",
      "flatten (Flatten)            (None, 25088)             0         \n",
      "_________________________________________________________________\n",
      "dense (Dense)                (None, 2)                 50178     \n",
      "=================================================================\n",
      "Total params: 20,074,562\n",
      "Trainable params: 50,178\n",
      "Non-trainable params: 20,024,384\n",
      "_________________________________________________________________\n"
     ]
    }
   ],
   "source": [
    "# view the structure of the model\n",
    "model.summary()"
   ]
  },
  {
   "cell_type": "code",
   "execution_count": 13,
   "metadata": {},
   "outputs": [],
   "source": [
    "from tensorflow.keras.layers import MaxPooling2D"
   ]
  },
  {
   "cell_type": "code",
   "execution_count": 14,
   "metadata": {},
   "outputs": [
    {
     "name": "stdout",
     "output_type": "stream",
     "text": [
      "Model: \"sequential\"\n",
      "_________________________________________________________________\n",
      "Layer (type)                 Output Shape              Param #   \n",
      "=================================================================\n",
      "conv2d (Conv2D)              (None, 224, 224, 16)      208       \n",
      "_________________________________________________________________\n",
      "max_pooling2d (MaxPooling2D) (None, 112, 112, 16)      0         \n",
      "_________________________________________________________________\n",
      "conv2d_1 (Conv2D)            (None, 112, 112, 32)      2080      \n",
      "_________________________________________________________________\n",
      "max_pooling2d_1 (MaxPooling2 (None, 56, 56, 32)        0         \n",
      "_________________________________________________________________\n",
      "conv2d_2 (Conv2D)            (None, 56, 56, 64)        8256      \n",
      "_________________________________________________________________\n",
      "max_pooling2d_2 (MaxPooling2 (None, 28, 28, 64)        0         \n",
      "_________________________________________________________________\n",
      "flatten_1 (Flatten)          (None, 50176)             0         \n",
      "_________________________________________________________________\n",
      "dense_1 (Dense)              (None, 500)               25088500  \n",
      "_________________________________________________________________\n",
      "dense_2 (Dense)              (None, 2)                 1002      \n",
      "=================================================================\n",
      "Total params: 25,100,046\n",
      "Trainable params: 25,100,046\n",
      "Non-trainable params: 0\n",
      "_________________________________________________________________\n"
     ]
    }
   ],
   "source": [
    "### Create Model from scratch using CNN\n",
    "model=Sequential()\n",
    "model.add(Conv2D(filters=16,kernel_size=2,padding=\"same\",activation=\"relu\",input_shape=(224,224,3)))\n",
    "model.add(MaxPooling2D(pool_size=2))\n",
    "model.add(Conv2D(filters=32,kernel_size=2,padding=\"same\",activation =\"relu\"))\n",
    "model.add(MaxPooling2D(pool_size=2))\n",
    "model.add(Conv2D(filters=64,kernel_size=2,padding=\"same\",activation=\"relu\"))\n",
    "model.add(MaxPooling2D(pool_size=2))\n",
    "model.add(Flatten())\n",
    "model.add(Dense(500,activation=\"relu\"))\n",
    "model.add(Dense(2,activation=\"softmax\"))\n",
    "model.summary()"
   ]
  },
  {
   "cell_type": "code",
   "execution_count": 15,
   "metadata": {},
   "outputs": [],
   "source": [
    "# tell the model what cost and optimization method to use\n",
    "model.compile(\n",
    "  loss='categorical_crossentropy',\n",
    "  optimizer='adam',\n",
    "  metrics=['accuracy']\n",
    ")"
   ]
  },
  {
   "cell_type": "code",
   "execution_count": 16,
   "metadata": {},
   "outputs": [],
   "source": [
    "# Use the Image Data Generator to import the images from the dataset\n",
    "from tensorflow.keras.preprocessing.image import ImageDataGenerator\n",
    "\n",
    "train_datagen = ImageDataGenerator(rescale = 1./255,\n",
    "                                   shear_range = 0.2,\n",
    "                                   zoom_range = 0.2,\n",
    "                                   horizontal_flip = True)\n",
    "\n",
    "test_datagen = ImageDataGenerator(rescale = 1./255)"
   ]
  },
  {
   "cell_type": "code",
   "execution_count": 17,
   "metadata": {},
   "outputs": [
    {
     "name": "stdout",
     "output_type": "stream",
     "text": [
      "Found 10161 images belonging to 2 classes.\n"
     ]
    }
   ],
   "source": [
    "# Make sure you provide the same target size as initialied for the image size\n",
    "training_set = train_datagen.flow_from_directory('cell_images/Train',\n",
    "                                                 target_size = (224, 224),\n",
    "                                                 batch_size = 50,\n",
    "                                                 class_mode = 'categorical')"
   ]
  },
  {
   "cell_type": "code",
   "execution_count": 18,
   "metadata": {},
   "outputs": [
    {
     "data": {
      "text/plain": [
       "<keras.preprocessing.image.DirectoryIterator at 0x6483c2690>"
      ]
     },
     "execution_count": 18,
     "metadata": {},
     "output_type": "execute_result"
    }
   ],
   "source": [
    "training_set"
   ]
  },
  {
   "cell_type": "code",
   "execution_count": 19,
   "metadata": {},
   "outputs": [
    {
     "name": "stdout",
     "output_type": "stream",
     "text": [
      "Found 10161 images belonging to 2 classes.\n"
     ]
    }
   ],
   "source": [
    "test_set = test_datagen.flow_from_directory('cell_images/Test',\n",
    "                                            target_size = (224, 224),\n",
    "                                            batch_size = 50,\n",
    "                                            class_mode = 'categorical')"
   ]
  },
  {
   "cell_type": "code",
   "execution_count": 20,
   "metadata": {
    "scrolled": true
   },
   "outputs": [
    {
     "name": "stderr",
     "output_type": "stream",
     "text": [
      "/Users/rashikagururani/opt/anaconda3/lib/python3.7/site-packages/keras/engine/training.py:1972: UserWarning: `Model.fit_generator` is deprecated and will be removed in a future version. Please use `Model.fit`, which supports generators.\n",
      "  warnings.warn('`Model.fit_generator` is deprecated and '\n"
     ]
    },
    {
     "name": "stdout",
     "output_type": "stream",
     "text": [
      "Epoch 1/50\n",
      "204/204 [==============================] - 616s 3s/step - loss: 0.6493 - accuracy: 0.6807 - val_loss: 0.4827 - val_accuracy: 0.7609\n",
      "Epoch 2/50\n",
      "204/204 [==============================] - 682s 3s/step - loss: 0.3838 - accuracy: 0.8442 - val_loss: 0.2188 - val_accuracy: 0.9166\n",
      "Epoch 3/50\n",
      "204/204 [==============================] - 639s 3s/step - loss: 0.1960 - accuracy: 0.9369 - val_loss: 0.1427 - val_accuracy: 0.9564\n",
      "Epoch 4/50\n",
      "204/204 [==============================] - 824s 4s/step - loss: 0.1609 - accuracy: 0.9506 - val_loss: 0.1395 - val_accuracy: 0.9622\n",
      "Epoch 5/50\n",
      "204/204 [==============================] - 918s 4s/step - loss: 0.1348 - accuracy: 0.9590 - val_loss: 0.1394 - val_accuracy: 0.9599\n",
      "Epoch 6/50\n",
      "204/204 [==============================] - 1099s 5s/step - loss: 0.1270 - accuracy: 0.9606 - val_loss: 0.1106 - val_accuracy: 0.9658\n",
      "Epoch 7/50\n",
      "204/204 [==============================] - 768s 4s/step - loss: 0.1308 - accuracy: 0.9607 - val_loss: 0.1299 - val_accuracy: 0.9639\n",
      "Epoch 8/50\n",
      "204/204 [==============================] - 678s 3s/step - loss: 0.1223 - accuracy: 0.9633 - val_loss: 0.1192 - val_accuracy: 0.9611\n",
      "Epoch 9/50\n",
      "204/204 [==============================] - 636s 3s/step - loss: 0.1288 - accuracy: 0.9615 - val_loss: 0.1025 - val_accuracy: 0.9693\n",
      "Epoch 10/50\n",
      "204/204 [==============================] - 921s 5s/step - loss: 0.1148 - accuracy: 0.9650 - val_loss: 0.1122 - val_accuracy: 0.9652\n",
      "Epoch 11/50\n",
      "204/204 [==============================] - 684s 3s/step - loss: 0.1210 - accuracy: 0.9633 - val_loss: 0.0958 - val_accuracy: 0.9702\n",
      "Epoch 12/50\n",
      "204/204 [==============================] - 753s 4s/step - loss: 0.1096 - accuracy: 0.9669 - val_loss: 0.1197 - val_accuracy: 0.9692\n",
      "Epoch 13/50\n",
      "204/204 [==============================] - 785s 4s/step - loss: 0.1102 - accuracy: 0.9662 - val_loss: 0.0942 - val_accuracy: 0.9709\n",
      "Epoch 14/50\n",
      "204/204 [==============================] - 523s 3s/step - loss: 0.1095 - accuracy: 0.9666 - val_loss: 0.1112 - val_accuracy: 0.9702\n",
      "Epoch 15/50\n",
      "204/204 [==============================] - 458s 2s/step - loss: 0.1069 - accuracy: 0.9667 - val_loss: 0.0835 - val_accuracy: 0.9738\n",
      "Epoch 16/50\n",
      "204/204 [==============================] - 472s 2s/step - loss: 0.1174 - accuracy: 0.9656 - val_loss: 0.0874 - val_accuracy: 0.9747\n",
      "Epoch 17/50\n",
      "204/204 [==============================] - 470s 2s/step - loss: 0.1025 - accuracy: 0.9677 - val_loss: 0.0872 - val_accuracy: 0.9739\n",
      "Epoch 18/50\n",
      "204/204 [==============================] - 431s 2s/step - loss: 0.1095 - accuracy: 0.9665 - val_loss: 0.0869 - val_accuracy: 0.9731\n",
      "Epoch 19/50\n",
      "204/204 [==============================] - 426s 2s/step - loss: 0.1009 - accuracy: 0.9683 - val_loss: 0.1013 - val_accuracy: 0.9731\n",
      "Epoch 20/50\n",
      "204/204 [==============================] - 583s 3s/step - loss: 0.0983 - accuracy: 0.9695 - val_loss: 0.0769 - val_accuracy: 0.9760\n",
      "Epoch 21/50\n",
      "204/204 [==============================] - 440s 2s/step - loss: 0.1054 - accuracy: 0.9673 - val_loss: 0.0748 - val_accuracy: 0.9775\n",
      "Epoch 22/50\n",
      "204/204 [==============================] - 422s 2s/step - loss: 0.0917 - accuracy: 0.9718 - val_loss: 0.0773 - val_accuracy: 0.9757\n",
      "Epoch 23/50\n",
      "204/204 [==============================] - 427s 2s/step - loss: 0.0998 - accuracy: 0.9677 - val_loss: 0.0938 - val_accuracy: 0.9734\n",
      "Epoch 24/50\n",
      "204/204 [==============================] - 426s 2s/step - loss: 0.0965 - accuracy: 0.9698 - val_loss: 0.0786 - val_accuracy: 0.9765\n",
      "Epoch 25/50\n",
      "204/204 [==============================] - 439s 2s/step - loss: 0.0918 - accuracy: 0.9713 - val_loss: 0.0666 - val_accuracy: 0.9789\n",
      "Epoch 26/50\n",
      "204/204 [==============================] - 425s 2s/step - loss: 0.0849 - accuracy: 0.9721 - val_loss: 0.0717 - val_accuracy: 0.9766\n",
      "Epoch 27/50\n",
      "204/204 [==============================] - 424s 2s/step - loss: 0.0810 - accuracy: 0.9738 - val_loss: 0.0677 - val_accuracy: 0.9791\n",
      "Epoch 28/50\n",
      "204/204 [==============================] - 426s 2s/step - loss: 0.0915 - accuracy: 0.9713 - val_loss: 0.0766 - val_accuracy: 0.9784\n",
      "Epoch 29/50\n",
      "204/204 [==============================] - 425s 2s/step - loss: 0.0901 - accuracy: 0.9721 - val_loss: 0.0677 - val_accuracy: 0.9802\n",
      "Epoch 30/50\n",
      "204/204 [==============================] - 424s 2s/step - loss: 0.0921 - accuracy: 0.9717 - val_loss: 0.0900 - val_accuracy: 0.9735\n",
      "Epoch 31/50\n",
      "204/204 [==============================] - 423s 2s/step - loss: 0.0847 - accuracy: 0.9722 - val_loss: 0.0652 - val_accuracy: 0.9801\n",
      "Epoch 32/50\n",
      "204/204 [==============================] - 421s 2s/step - loss: 0.0778 - accuracy: 0.9747 - val_loss: 0.0650 - val_accuracy: 0.9796\n",
      "Epoch 33/50\n",
      "204/204 [==============================] - 422s 2s/step - loss: 0.0815 - accuracy: 0.9743 - val_loss: 0.0659 - val_accuracy: 0.9807\n",
      "Epoch 34/50\n",
      "204/204 [==============================] - 424s 2s/step - loss: 0.0788 - accuracy: 0.9750 - val_loss: 0.0755 - val_accuracy: 0.9789\n",
      "Epoch 35/50\n",
      "204/204 [==============================] - 421s 2s/step - loss: 0.0757 - accuracy: 0.9757 - val_loss: 0.0611 - val_accuracy: 0.9812\n",
      "Epoch 36/50\n",
      "204/204 [==============================] - 426s 2s/step - loss: 0.0770 - accuracy: 0.9751 - val_loss: 0.0565 - val_accuracy: 0.9828\n",
      "Epoch 37/50\n",
      "204/204 [==============================] - 426s 2s/step - loss: 0.0773 - accuracy: 0.9756 - val_loss: 0.0572 - val_accuracy: 0.9821\n",
      "Epoch 38/50\n",
      "204/204 [==============================] - 426s 2s/step - loss: 0.0801 - accuracy: 0.9753 - val_loss: 0.0561 - val_accuracy: 0.9828\n",
      "Epoch 39/50\n",
      "204/204 [==============================] - 425s 2s/step - loss: 0.0742 - accuracy: 0.9758 - val_loss: 0.0571 - val_accuracy: 0.9818\n",
      "Epoch 40/50\n",
      "204/204 [==============================] - 422s 2s/step - loss: 0.0817 - accuracy: 0.9736 - val_loss: 0.0541 - val_accuracy: 0.9831\n",
      "Epoch 41/50\n",
      "204/204 [==============================] - 417s 2s/step - loss: 0.0724 - accuracy: 0.9772 - val_loss: 0.0804 - val_accuracy: 0.9772\n",
      "Epoch 42/50\n",
      "204/204 [==============================] - 434s 2s/step - loss: 0.0727 - accuracy: 0.9781 - val_loss: 0.0685 - val_accuracy: 0.9814\n",
      "Epoch 43/50\n",
      "204/204 [==============================] - 423s 2s/step - loss: 0.0687 - accuracy: 0.9784 - val_loss: 0.0676 - val_accuracy: 0.9819\n",
      "Epoch 44/50\n",
      "204/204 [==============================] - 423s 2s/step - loss: 0.0712 - accuracy: 0.9774 - val_loss: 0.0752 - val_accuracy: 0.9772\n",
      "Epoch 45/50\n",
      "204/204 [==============================] - 424s 2s/step - loss: 0.0765 - accuracy: 0.9760 - val_loss: 0.0534 - val_accuracy: 0.9830\n",
      "Epoch 46/50\n",
      "204/204 [==============================] - 423s 2s/step - loss: 0.0682 - accuracy: 0.9782 - val_loss: 0.0751 - val_accuracy: 0.9799\n",
      "Epoch 47/50\n",
      "204/204 [==============================] - 424s 2s/step - loss: 0.0725 - accuracy: 0.9768 - val_loss: 0.0557 - val_accuracy: 0.9817\n",
      "Epoch 48/50\n",
      "204/204 [==============================] - 477s 2s/step - loss: 0.0714 - accuracy: 0.9765 - val_loss: 0.0567 - val_accuracy: 0.9822\n",
      "Epoch 49/50\n",
      "204/204 [==============================] - 452s 2s/step - loss: 0.0722 - accuracy: 0.9768 - val_loss: 0.0506 - val_accuracy: 0.9837\n",
      "Epoch 50/50\n",
      "204/204 [==============================] - 434s 2s/step - loss: 0.0704 - accuracy: 0.9778 - val_loss: 0.0534 - val_accuracy: 0.9845\n"
     ]
    }
   ],
   "source": [
    "# fit the model\n",
    "# Run the cell. It will take some time to execute\n",
    "r = model.fit_generator(\n",
    "  training_set,\n",
    "  validation_data=test_set,\n",
    "  epochs=50,\n",
    "  steps_per_epoch=len(training_set),\n",
    "  validation_steps=len(test_set)\n",
    ")"
   ]
  },
  {
   "cell_type": "code",
   "execution_count": 21,
   "metadata": {},
   "outputs": [
    {
     "data": {
      "image/png": "[encoded data removed]",
      "text/plain": [
       "<Figure size 432x288 with 1 Axes>"
      ]
     },
     "metadata": {
      "needs_background": "light"
     },
     "output_type": "display_data"
    },
    {
     "data": {
      "image/png": "[encoded data removed]",
      "text/plain": [
       "<Figure size 432x288 with 1 Axes>"
      ]
     },
     "metadata": {
      "needs_background": "light"
     },
     "output_type": "display_data"
    },
    {
     "data": {
      "text/plain": [
       "<Figure size 432x288 with 0 Axes>"
      ]
     },
     "metadata": {},
     "output_type": "display_data"
    }
   ],
   "source": [
    "# plot the loss\n",
    "plt.plot(r.history['loss'], label='train loss')\n",
    "plt.plot(r.history['val_loss'], label='val loss')\n",
    "plt.legend()\n",
    "plt.show()\n",
    "plt.savefig('LossVal_loss')\n",
    "\n",
    "# plot the accuracy\n",
    "plt.plot(r.history['accuracy'], label='train acc')\n",
    "plt.plot(r.history['val_accuracy'], label='val acc')\n",
    "plt.legend()\n",
    "plt.show()\n",
    "plt.savefig('AccVal_acc')"
   ]
  },
  {
   "cell_type": "code",
   "execution_count": 22,
   "metadata": {},
   "outputs": [],
   "source": [
    "# save it as a h5 file\n",
    "\n",
    "\n",
    "from tensorflow.keras.models import load_model\n",
    "\n",
    "model.save('model_vgg19.h5')"
   ]
  },
  {
   "cell_type": "code",
   "execution_count": null,
   "metadata": {},
   "outputs": [],
   "source": []
  },
  {
   "cell_type": "code",
   "execution_count": 23,
   "metadata": {},
   "outputs": [],
   "source": [
    "y_pred = model.predict(test_set)"
   ]
  },
  {
   "cell_type": "code",
   "execution_count": 24,
   "metadata": {},
   "outputs": [
    {
     "data": {
      "text/plain": [
       "array([[5.7228195e-04, 9.9942774e-01],\n",
       "       [1.3045068e-03, 9.9869555e-01],\n",
       "       [1.7958978e-04, 9.9982041e-01],\n",
       "       ...,\n",
       "       [1.0000000e+00, 3.5188243e-08],\n",
       "       [1.8309853e-03, 9.9816895e-01],\n",
       "       [9.7215176e-01, 2.7848197e-02]], dtype=float32)"
      ]
     },
     "execution_count": 24,
     "metadata": {},
     "output_type": "execute_result"
    }
   ],
   "source": [
    "y_pred"
   ]
  },
  {
   "cell_type": "code",
   "execution_count": 25,
   "metadata": {},
   "outputs": [],
   "source": [
    "import numpy as np\n",
    "y_pred = np.argmax(y_pred, axis=1)"
   ]
  },
  {
   "cell_type": "code",
   "execution_count": 26,
   "metadata": {},
   "outputs": [
    {
     "data": {
      "text/plain": [
       "array([1, 1, 1, ..., 0, 1, 0])"
      ]
     },
     "execution_count": 26,
     "metadata": {},
     "output_type": "execute_result"
    }
   ],
   "source": [
    "y_pred"
   ]
  },
  {
   "cell_type": "code",
   "execution_count": null,
   "metadata": {},
   "outputs": [],
   "source": []
  },
  {
   "cell_type": "code",
   "execution_count": 27,
   "metadata": {},
   "outputs": [],
   "source": [
    "from tensorflow.keras.models import load_model\n",
    "from tensorflow.keras.preprocessing import image"
   ]
  },
  {
   "cell_type": "code",
   "execution_count": 28,
   "metadata": {},
   "outputs": [],
   "source": [
    "model=load_model('model_vgg19.h5')"
   ]
  },
  {
   "cell_type": "code",
   "execution_count": null,
   "metadata": {},
   "outputs": [],
   "source": []
  },
  {
   "cell_type": "code",
   "execution_count": 49,
   "metadata": {},
   "outputs": [],
   "source": [
    "img=image.load_img('cell_images/Test/Uninfected/check.png',target_size=(224,224))"
   ]
  },
  {
   "cell_type": "code",
   "execution_count": 50,
   "metadata": {},
   "outputs": [
    {
     "data": {
      "text/plain": [
       "array([[[0., 0., 0.],\n",
       "        [0., 0., 0.],\n",
       "        [0., 0., 0.],\n",
       "        ...,\n",
       "        [0., 0., 0.],\n",
       "        [0., 0., 0.],\n",
       "        [0., 0., 0.]],\n",
       "\n",
       "       [[0., 0., 0.],\n",
       "        [0., 0., 0.],\n",
       "        [0., 0., 0.],\n",
       "        ...,\n",
       "        [0., 0., 0.],\n",
       "        [0., 0., 0.],\n",
       "        [0., 0., 0.]],\n",
       "\n",
       "       [[0., 0., 0.],\n",
       "        [0., 0., 0.],\n",
       "        [0., 0., 0.],\n",
       "        ...,\n",
       "        [0., 0., 0.],\n",
       "        [0., 0., 0.],\n",
       "        [0., 0., 0.]],\n",
       "\n",
       "       ...,\n",
       "\n",
       "       [[0., 0., 0.],\n",
       "        [0., 0., 0.],\n",
       "        [0., 0., 0.],\n",
       "        ...,\n",
       "        [0., 0., 0.],\n",
       "        [0., 0., 0.],\n",
       "        [0., 0., 0.]],\n",
       "\n",
       "       [[0., 0., 0.],\n",
       "        [0., 0., 0.],\n",
       "        [0., 0., 0.],\n",
       "        ...,\n",
       "        [0., 0., 0.],\n",
       "        [0., 0., 0.],\n",
       "        [0., 0., 0.]],\n",
       "\n",
       "       [[0., 0., 0.],\n",
       "        [0., 0., 0.],\n",
       "        [0., 0., 0.],\n",
       "        ...,\n",
       "        [0., 0., 0.],\n",
       "        [0., 0., 0.],\n",
       "        [0., 0., 0.]]], dtype=float32)"
      ]
     },
     "execution_count": 50,
     "metadata": {},
     "output_type": "execute_result"
    }
   ],
   "source": [
    "x=image.img_to_array(img)\n",
    "x"
   ]
  },
  {
   "cell_type": "code",
   "execution_count": 51,
   "metadata": {},
   "outputs": [
    {
     "data": {
      "text/plain": [
       "(224, 224, 3)"
      ]
     },
     "execution_count": 51,
     "metadata": {},
     "output_type": "execute_result"
    }
   ],
   "source": [
    "x.shape"
   ]
  },
  {
   "cell_type": "code",
   "execution_count": 52,
   "metadata": {},
   "outputs": [],
   "source": [
    "x=x/255"
   ]
  },
  {
   "cell_type": "code",
   "execution_count": 53,
   "metadata": {},
   "outputs": [
    {
     "data": {
      "text/plain": [
       "(1, 224, 224, 3)"
      ]
     },
     "execution_count": 53,
     "metadata": {},
     "output_type": "execute_result"
    }
   ],
   "source": [
    "x=np.expand_dims(x,axis=0)\n",
    "img_data=preprocess_input(x)\n",
    "img_data.shape"
   ]
  },
  {
   "cell_type": "code",
   "execution_count": 54,
   "metadata": {},
   "outputs": [
    {
     "data": {
      "text/plain": [
       "array([[0., 1.]], dtype=float32)"
      ]
     },
     "execution_count": 54,
     "metadata": {},
     "output_type": "execute_result"
    }
   ],
   "source": [
    "model.predict(img_data)"
   ]
  },
  {
   "cell_type": "code",
   "execution_count": 55,
   "metadata": {},
   "outputs": [],
   "source": [
    "a=np.argmax(model.predict(img_data), axis=1)"
   ]
  },
  {
   "cell_type": "code",
   "execution_count": null,
   "metadata": {},
   "outputs": [],
   "source": []
  },
  {
   "cell_type": "code",
   "execution_count": 57,
   "metadata": {},
   "outputs": [
    {
     "name": "stdout",
     "output_type": "stream",
     "text": [
      "Uninfected\n"
     ]
    }
   ],
   "source": [
    "if(a==1):\n",
    "    print(\"Uninfected\")\n",
    "else:\n",
    "    print(\"Infected\")"
   ]
  },
  {
   "cell_type": "code",
   "execution_count": null,
   "metadata": {},
   "outputs": [],
   "source": []
  },
  {
   "cell_type": "code",
   "execution_count": null,
   "metadata": {},
   "outputs": [],
   "source": []
  }
 ],
 "metadata": {
  "kernelspec": {
   "display_name": "Python 3",
   "language": "python",
   "name": "python3"
  },
  "language_info": {
   "codemirror_mode": {
    "name": "ipython",
    "version": 3
   },
   "file_extension": ".py",
   "mimetype": "text/x-python",
   "name": "python",
   "nbconvert_exporter": "python",
   "pygments_lexer": "ipython3",
   "version": "3.7.6"
  }
 },
 "nbformat": 4,
 "nbformat_minor": 4
}
